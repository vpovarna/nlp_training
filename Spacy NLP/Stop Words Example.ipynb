{
 "cells": [
  {
   "cell_type": "code",
   "execution_count": 1,
   "metadata": {},
   "outputs": [],
   "source": [
    "import spacy"
   ]
  },
  {
   "cell_type": "code",
   "execution_count": 2,
   "metadata": {},
   "outputs": [],
   "source": [
    "nlp = spacy.load('en_core_web_sm')"
   ]
  },
  {
   "cell_type": "code",
   "execution_count": 3,
   "metadata": {},
   "outputs": [
    {
     "name": "stdout",
     "output_type": "stream",
     "text": [
      "{'back', 'by', 'but', 'hereupon', 'forty', 'afterwards', 'might', 'their', 'four', 'only', 'more', 'put', 'together', 'twenty', 'on', 'everyone', 'bottom', 'himself', 'latterly', 'becomes', 'seeming', 'could', 'except', 'sometimes', 'across', 'throughout', 'whence', 'empty', 'hereby', 'per', 'being', 'some', 'has', 'that', 'an', 'out', 'used', 'you', 'become', 'which', 'nine', 'never', 'thus', 'as', 'moreover', 'take', 'when', 'say', 'sometime', 'elsewhere', 'had', 'ca', 'eight', 'me', 'than', 'whatever', 'yours', 'whether', 'herself', 'whereas', 'not', 'seems', 'toward', 'upon', 'she', 'full', 'must', 'cannot', 'been', 'were', 'yet', 'via', 'hers', 'at', 'itself', 'mine', 'under', 'name', 'would', 'through', 'anyway', 'indeed', 'he', 'into', 'yourself', 'just', 'somewhere', 'ten', 'very', 'please', 'once', 'whole', 'since', 'may', 'they', 'amongst', 'beside', 'am', 'fifty', 'namely', 'next', 'either', 'no', 'someone', 'thereupon', 'show', 'i', 'will', 'ours', 'though', 'seemed', 'our', 'nothing', 'should', 'however', 'many', 'with', 'quite', 'hence', 'your', 'otherwise', 'are', 'thru', 'made', 'front', 'anywhere', 'over', 'own', 'make', 'then', 'this', 'who', 'mostly', 'third', 'why', 'among', 'herein', 'what', 'beforehand', 'its', 'meanwhile', 'have', 'none', 'from', 'does', 'any', 'how', 'others', 'several', 'thereby', 'those', 'whoever', 'yourselves', 'each', 'myself', 'go', 'or', 'although', 'do', 'where', 'it', 'anyone', 'therein', 'if', 'three', 'nobody', 'whereafter', 'wherein', 'nowhere', 'much', 'anything', 'everything', 'get', 'thence', 'sixty', 'other', 'during', 'before', 'whereupon', 'top', 'even', 'wherever', 'few', 'already', 'a', 'about', 'ourselves', 'us', 'for', 'enough', 'there', 'also', 'done', 'because', 're', 'these', 'above', 'did', 'off', 'same', 'ever', 'less', 'former', 'part', 'else', 'noone', 'thereafter', 'twelve', 'hereafter', 'while', 'side', 'still', 'them', 'between', 'doing', 'using', 'hundred', 'see', 'my', 'such', 'two', 'along', 'anyhow', 'the', 'further', 'formerly', 'here', 'rather', 'themselves', 'well', 'within', 'almost', 'due', 'perhaps', 'another', 'below', 'last', 'most', 'until', 'latter', 'really', 'keep', 'six', 'regarding', 'five', 'various', 'amount', 'always', 'after', 'against', 'her', 'unless', 'often', 'everywhere', 'around', 'down', 'both', 'alone', 'whom', 'least', 'we', 'of', 'be', 'give', 'something', 'him', 'onto', 'and', 'call', 'so', 'neither', 'whither', 'behind', 'therefore', 'every', 'whenever', 'all', 'eleven', 'again', 'nevertheless', 'now', 'serious', 'somehow', 'his', 'up', 'becoming', 'became', 'first', 'is', 'too', 'whose', 'without', 'besides', 'fifteen', 'nor', 'towards', 'whereby', 'was', 'in', 'one', 'move', 'to', 'seem', 'beyond', 'can'}\n"
     ]
    }
   ],
   "source": [
    "print(nlp.Defaults.stop_words)"
   ]
  },
  {
   "cell_type": "code",
   "execution_count": 4,
   "metadata": {},
   "outputs": [
    {
     "data": {
      "text/plain": [
       "True"
      ]
     },
     "execution_count": 4,
     "metadata": {},
     "output_type": "execute_result"
    }
   ],
   "source": [
    "nlp.vocab['is'].is_stop"
   ]
  },
  {
   "cell_type": "code",
   "execution_count": 5,
   "metadata": {},
   "outputs": [],
   "source": [
    "#adding a step word\n",
    "nlp.Defaults.stop_words.add('btw')"
   ]
  },
  {
   "cell_type": "code",
   "execution_count": 7,
   "metadata": {},
   "outputs": [
    {
     "data": {
      "text/plain": [
       "True"
      ]
     },
     "execution_count": 7,
     "metadata": {},
     "output_type": "execute_result"
    }
   ],
   "source": [
    "# Check stop words\n",
    "nlp.vocab['btw'].is_stop"
   ]
  },
  {
   "cell_type": "code",
   "execution_count": 8,
   "metadata": {},
   "outputs": [],
   "source": [
    "# remove a stop words\n",
    "nlp.Defaults.stop_words.remove('beyond')"
   ]
  },
  {
   "cell_type": "code",
   "execution_count": 10,
   "metadata": {},
   "outputs": [],
   "source": [
    "nlp.vocab['beyond'].is_stop = False"
   ]
  },
  {
   "cell_type": "code",
   "execution_count": 11,
   "metadata": {},
   "outputs": [
    {
     "data": {
      "text/plain": [
       "False"
      ]
     },
     "execution_count": 11,
     "metadata": {},
     "output_type": "execute_result"
    }
   ],
   "source": [
    "nlp.vocab['beyond'].is_stop"
   ]
  }
 ],
 "metadata": {
  "kernelspec": {
   "display_name": "nlp_course",
   "language": "python",
   "name": "python3"
  },
  "language_info": {
   "codemirror_mode": {
    "name": "ipython",
    "version": 3
   },
   "file_extension": ".py",
   "mimetype": "text/x-python",
   "name": "python",
   "nbconvert_exporter": "python",
   "pygments_lexer": "ipython3",
   "version": "3.7.16"
  }
 },
 "nbformat": 4,
 "nbformat_minor": 2
}
